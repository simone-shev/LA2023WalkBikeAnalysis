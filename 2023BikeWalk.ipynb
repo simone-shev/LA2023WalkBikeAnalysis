{
  "nbformat": 4,
  "nbformat_minor": 0,
  "metadata": {
    "colab": {
      "provenance": []
    },
    "kernelspec": {
      "name": "python3",
      "display_name": "Python 3"
    },
    "language_info": {
      "name": "python"
    }
  },
  "cells": [
    {
      "cell_type": "code",
      "source": [
        "!pip install folium"
      ],
      "metadata": {
        "colab": {
          "base_uri": "https://localhost:8080/"
        },
        "id": "ZODL12PdAjXV",
        "outputId": "8996e085-b28d-4572-f9f1-55199d6a5bcc"
      },
      "execution_count": 1,
      "outputs": [
        {
          "output_type": "stream",
          "name": "stdout",
          "text": [
            "Requirement already satisfied: folium in /usr/local/lib/python3.11/dist-packages (0.20.0)\n",
            "Requirement already satisfied: branca>=0.6.0 in /usr/local/lib/python3.11/dist-packages (from folium) (0.8.1)\n",
            "Requirement already satisfied: jinja2>=2.9 in /usr/local/lib/python3.11/dist-packages (from folium) (3.1.6)\n",
            "Requirement already satisfied: numpy in /usr/local/lib/python3.11/dist-packages (from folium) (2.0.2)\n",
            "Requirement already satisfied: requests in /usr/local/lib/python3.11/dist-packages (from folium) (2.32.3)\n",
            "Requirement already satisfied: xyzservices in /usr/local/lib/python3.11/dist-packages (from folium) (2025.4.0)\n",
            "Requirement already satisfied: MarkupSafe>=2.0 in /usr/local/lib/python3.11/dist-packages (from jinja2>=2.9->folium) (3.0.2)\n",
            "Requirement already satisfied: charset-normalizer<4,>=2 in /usr/local/lib/python3.11/dist-packages (from requests->folium) (3.4.2)\n",
            "Requirement already satisfied: idna<4,>=2.5 in /usr/local/lib/python3.11/dist-packages (from requests->folium) (3.10)\n",
            "Requirement already satisfied: urllib3<3,>=1.21.1 in /usr/local/lib/python3.11/dist-packages (from requests->folium) (2.5.0)\n",
            "Requirement already satisfied: certifi>=2017.4.17 in /usr/local/lib/python3.11/dist-packages (from requests->folium) (2025.7.14)\n"
          ]
        }
      ]
    },
    {
      "cell_type": "code",
      "source": [
        "!pip install scikit-learn"
      ],
      "metadata": {
        "colab": {
          "base_uri": "https://localhost:8080/"
        },
        "id": "rZAWHT_IBUXd",
        "outputId": "136985c8-7467-4e85-831c-b4e7d663cf0a"
      },
      "execution_count": 2,
      "outputs": [
        {
          "output_type": "stream",
          "name": "stdout",
          "text": [
            "Requirement already satisfied: scikit-learn in /usr/local/lib/python3.11/dist-packages (1.6.1)\n",
            "Requirement already satisfied: numpy>=1.19.5 in /usr/local/lib/python3.11/dist-packages (from scikit-learn) (2.0.2)\n",
            "Requirement already satisfied: scipy>=1.6.0 in /usr/local/lib/python3.11/dist-packages (from scikit-learn) (1.16.0)\n",
            "Requirement already satisfied: joblib>=1.2.0 in /usr/local/lib/python3.11/dist-packages (from scikit-learn) (1.5.1)\n",
            "Requirement already satisfied: threadpoolctl>=3.1.0 in /usr/local/lib/python3.11/dist-packages (from scikit-learn) (3.6.0)\n"
          ]
        }
      ]
    },
    {
      "cell_type": "code",
      "source": [
        "from google.colab import drive\n",
        "drive.mount('/content/drive')"
      ],
      "metadata": {
        "colab": {
          "base_uri": "https://localhost:8080/"
        },
        "id": "J0gbx5tNCtg_",
        "outputId": "158379be-15bc-4137-beb3-1bdf0a141143"
      },
      "execution_count": 3,
      "outputs": [
        {
          "output_type": "stream",
          "name": "stdout",
          "text": [
            "Mounted at /content/drive\n"
          ]
        }
      ]
    },
    {
      "cell_type": "code",
      "source": [
        "import pandas as pd\n",
        "import folium\n",
        "import numpy as np\n",
        "from folium.plugins import HeatMap\n",
        "from sklearn.cluster import KMeans\n",
        "from folium.plugins import MarkerCluster\n",
        "from geopy.distance import geodesic"
      ],
      "metadata": {
        "id": "06NCn40FAoB0"
      },
      "execution_count": 4,
      "outputs": []
    },
    {
      "cell_type": "markdown",
      "source": [
        "Load-in Data"
      ],
      "metadata": {
        "id": "mPFGs2htcW9u"
      }
    },
    {
      "cell_type": "code",
      "source": [
        "# Note you may need to change the filename or how you load it in to replicate\n",
        "file_name = '/content/drive/MyDrive/2023_Walk___Bike_Count_Data_20250721.csv'\n",
        "\n",
        "df = pd.read_csv(file_name)\n",
        "\n",
        "relevant_cols = ['Street Name', 'Limit 1', 'Limit 2', 'Ped_Total', 'Bike_Total', 'Scooter_Total', 'Latitude', 'Longitude']\n",
        "df = df[relevant_cols]\n",
        "\n",
        "df['Total_Activity'] = df[['Ped_Total', 'Bike_Total', 'Scooter_Total']].fillna(0).sum(axis=1)\n",
        "\n",
        "df = df.dropna(subset=['Latitude', 'Longitude', 'Total_Activity'])"
      ],
      "metadata": {
        "id": "GbWWFsvjcZzW"
      },
      "execution_count": 5,
      "outputs": []
    },
    {
      "cell_type": "markdown",
      "source": [
        "Heatmap code"
      ],
      "metadata": {
        "id": "sZ68jSW5ATHP"
      }
    },
    {
      "cell_type": "code",
      "execution_count": 6,
      "metadata": {
        "id": "5ItZWc2e_Q9K"
      },
      "outputs": [],
      "source": [
        "map_center = [df['Latitude'].mean(), df['Longitude'].mean()]\n",
        "base_map = folium.Map(location=map_center, zoom_start=12)\n",
        "\n",
        "heat_data = df[['Latitude', 'Longitude', 'Total_Activity']].values.tolist()\n",
        "HeatMap(heat_data, radius=15, max_zoom=13).add_to(base_map)\n",
        "\n",
        "output_path = '/content/drive/MyDrive/la_bike_ped_heatmap.html'\n",
        "base_map.save(output_path)"
      ]
    },
    {
      "cell_type": "markdown",
      "source": [
        "K Means with Naive BRT connections (full graph)"
      ],
      "metadata": {
        "id": "qcNnFaxlD_9S"
      }
    },
    {
      "cell_type": "code",
      "source": [
        "k = 6  # you can change this depending on how many BRT zones you want\n",
        "kmeans = KMeans(n_clusters=k, random_state=0)\n",
        "df['cluster'] = kmeans.fit_predict(df[['Latitude', 'Longitude']])\n",
        "\n",
        "centroids = kmeans.cluster_centers_\n",
        "\n",
        "map_center = [df['Latitude'].mean(), df['Longitude'].mean()]\n",
        "base_map = folium.Map(location=map_center, zoom_start=12)\n",
        "\n",
        "# Add clustered points to map\n",
        "marker_cluster = MarkerCluster().add_to(base_map)\n",
        "for _, row in df.iterrows():\n",
        "    folium.CircleMarker(\n",
        "        location=(row['Latitude'], row['Longitude']),\n",
        "        radius=3,\n",
        "        color='blue',\n",
        "        fill=True,\n",
        "        fill_opacity=0.6\n",
        "    ).add_to(marker_cluster)\n",
        "\n",
        "# Add cluster centers (naive BRT stops)\n",
        "for i, (lat, lon) in enumerate(centroids):\n",
        "    folium.Marker(\n",
        "        location=(lat, lon),\n",
        "        popup=f\"BRT Stop {i+1}\",\n",
        "        icon=folium.Icon(color='red', icon='bus', prefix='fa')\n",
        "    ).add_to(base_map)\n",
        "\n",
        "# Draw naive BRT corridors by connecting cluster centers\n",
        "for i in range(len(centroids)):\n",
        "    for j in range(i + 1, len(centroids)):\n",
        "        folium.PolyLine(\n",
        "            locations=[tuple(centroids[i]), tuple(centroids[j])],\n",
        "            color='orange',\n",
        "            weight=4,\n",
        "            opacity=1\n",
        "        ).add_to(base_map)\n",
        "\n",
        "output_path = '/content/drive/MyDrive/kmeans_naive_brt_map.html'\n",
        "base_map.save(output_path)"
      ],
      "metadata": {
        "id": "6Wqop_R6Bog1"
      },
      "execution_count": 17,
      "outputs": []
    },
    {
      "cell_type": "markdown",
      "source": [
        "K Means with MST BRT connections"
      ],
      "metadata": {
        "id": "YuWp9N-iEIwL"
      }
    },
    {
      "cell_type": "code",
      "source": [
        "k = 8  # you can change this depending on how many BRT zones you want\n",
        "kmeans = KMeans(n_clusters=k, random_state=0)\n",
        "df['cluster'] = kmeans.fit_predict(df[['Latitude', 'Longitude']])\n",
        "\n",
        "centroids = kmeans.cluster_centers_\n",
        "\n",
        "map_center = [df['Latitude'].mean(), df['Longitude'].mean()]\n",
        "base_map = folium.Map(location=map_center, zoom_start=12)\n",
        "\n",
        "# Add clustered points to map\n",
        "marker_cluster = MarkerCluster().add_to(base_map)\n",
        "for _, row in df.iterrows():\n",
        "    folium.CircleMarker(\n",
        "        location=(row['Latitude'], row['Longitude']),\n",
        "        radius=3,\n",
        "        color='blue',\n",
        "        fill=True,\n",
        "        fill_opacity=0.6\n",
        "    ).add_to(marker_cluster)\n",
        "\n",
        "# Add cluster centers (naive BRT stops)\n",
        "for i, (lat, lon) in enumerate(centroids):\n",
        "    folium.Marker(\n",
        "        location=(lat, lon),\n",
        "        popup=f\"BRT Stop {i+1}\",\n",
        "        icon=folium.Icon(color='red', icon='bus', prefix='fa')\n",
        "    ).add_to(base_map)\n",
        "\n",
        "centroid_coords = [tuple(c) for c in centroids]\n",
        "k = len(centroid_coords)\n",
        "\n",
        "# Build a full distance matrix\n",
        "dist_matrix = [[0]*k for _ in range(k)]\n",
        "for i in range(k):\n",
        "    for j in range(k):\n",
        "        if i != j:\n",
        "            dist_matrix[i][j] = geodesic(centroid_coords[i], centroid_coords[j]).meters\n",
        "        else:\n",
        "            dist_matrix[i][j] = float('inf')  # no self-loops\n",
        "\n",
        "visited = set()\n",
        "edges = []\n",
        "\n",
        "visited.add(0)\n",
        "\n",
        "while len(visited) < k:\n",
        "    min_edge = (None, None, float('inf'))  # (i, j, dist)\n",
        "    for i in visited:\n",
        "        for j in range(k):\n",
        "            if j not in visited and dist_matrix[i][j] < min_edge[2]:\n",
        "                min_edge = (i, j, dist_matrix[i][j])\n",
        "    i, j, _ = min_edge\n",
        "    visited.add(j)\n",
        "    edges.append((i, j))\n",
        "\n",
        "# Draw MST edges\n",
        "for i, j in edges:\n",
        "    folium.PolyLine(\n",
        "        locations=[centroid_coords[i], centroid_coords[j]],\n",
        "        color='orange',\n",
        "        weight=3,\n",
        "        opacity=0.8\n",
        "    ).add_to(base_map)\n",
        "\n",
        "output_path = '/content/drive/MyDrive/kmeans_MST_brt_map.html'\n",
        "base_map.save(output_path)"
      ],
      "metadata": {
        "id": "kdABMDdCEHPb"
      },
      "execution_count": 6,
      "outputs": []
    }
  ]
}